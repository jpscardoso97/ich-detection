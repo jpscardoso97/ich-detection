{
 "cells": [
  {
   "cell_type": "code",
   "execution_count": 14,
   "metadata": {},
   "outputs": [],
   "source": [
    "import numpy as np\n",
    "import matplotlib.pyplot as plt\n",
    "import os\n",
    "\n",
    "if os.getcwd().split('/')[-1] == \"pre-processing\":\n",
    "    %cd ../..\n",
    "from PIL import Image\n",
    "from scripts.physical_transformation import get_noisy_image, get_direct_noisy_image"
   ]
  },
  {
   "cell_type": "markdown",
   "metadata": {},
   "source": [
    "## Training data"
   ]
  },
  {
   "cell_type": "code",
   "execution_count": 18,
   "metadata": {},
   "outputs": [
    {
     "name": "stdout",
     "output_type": "stream",
     "text": [
      "Adding noise to train images with noise level: 0.5\n"
     ]
    }
   ],
   "source": [
    "train_imags_path = 'data/RSNA_BME548-png/train/'\n",
    "\n",
    "NOISE_LEVELS = [0.5]\n",
    "\n",
    "for noise_level in NOISE_LEVELS:\n",
    "    print(f'Adding noise to train images with noise level: {noise_level}')\n",
    "    n = str.replace(str(noise_level), '.', '_')\n",
    "    noisy_train_imags_path = f'data/RSNA_BME548-sino-png/train_noisy_{n}/'\n",
    "    if not os.path.exists(noisy_train_imags_path):\n",
    "        os.makedirs(noisy_train_imags_path+\"0\")\n",
    "        os.makedirs(noisy_train_imags_path+\"1\")\n",
    "\n",
    "    for i in range(2):\n",
    "        class_path = f\"{train_imags_path}{str(i)}/\"\n",
    "        for filename in os.listdir(class_path):\n",
    "            img = Image.open(class_path + filename).convert('L')\n",
    "            img = np.array(img)\n",
    "            noisy_img = get_noisy_image(img, noise_level)\n",
    "            plt.figure(figsize=(noisy_img.shape[1]/100, noisy_img.shape[0]/100), dpi=100)\n",
    "            plt.imshow(noisy_img, cmap='gray')\n",
    "            plt.axis('off')\n",
    "            plt.savefig(noisy_train_imags_path + str(i) + '/' + filename, bbox_inches='tight', pad_inches=0)\n",
    "            plt.close()"
   ]
  },
  {
   "cell_type": "markdown",
   "metadata": {},
   "source": [
    "## Test data"
   ]
  },
  {
   "cell_type": "code",
   "execution_count": 13,
   "metadata": {},
   "outputs": [
    {
     "name": "stdout",
     "output_type": "stream",
     "text": [
      "Adding noise to test images with noise level: 1.5\n"
     ]
    },
    {
     "name": "stderr",
     "output_type": "stream",
     "text": [
      "/Users/jc/.venvs/bme548/lib/python3.11/site-packages/skimage/transform/radon_transform.py:75: UserWarning: Radon transform: image must be zero outside the reconstruction circle\n",
      "  warn('Radon transform: image must be zero outside the '\n"
     ]
    }
   ],
   "source": [
    "test_imags_path = 'data/RSNA_BME548-png/test/'\n",
    "\n",
    "NOISE_LEVELS = [0, 0.25, 0.75, 1, 1.5]\n",
    "\n",
    "for noise_level in NOISE_LEVELS:\n",
    "    print(f'Adding noise to test images with noise level: {noise_level}')\n",
    "    n = str.replace(str(noise_level), '.', '_')\n",
    "    noisy_test_imags_path = f'data/RSNA_BME548-sino-png/test_noisy_{n}/'\n",
    "    if not os.path.exists(noisy_test_imags_path):\n",
    "        os.makedirs(noisy_test_imags_path+\"0\")\n",
    "        os.makedirs(noisy_test_imags_path+\"1\")\n",
    "\n",
    "    for i in range(2):\n",
    "        class_path = f\"{test_imags_path}{str(i)}/\"\n",
    "        for filename in os.listdir(class_path):\n",
    "            img = Image.open(class_path + filename).convert('L')\n",
    "            img = np.array(img)\n",
    "            noisy_img = get_noisy_image(img, noise_level)\n",
    "            plt.figure(figsize=(noisy_img.shape[1]/100, noisy_img.shape[0]/100), dpi=100)\n",
    "            plt.imshow(noisy_img, cmap='gray')\n",
    "            plt.axis('off')\n",
    "            plt.savefig(noisy_test_imags_path + str(i) + '/' + filename, bbox_inches='tight', pad_inches=0)\n",
    "            plt.close()\n",
    "    "
   ]
  },
  {
   "cell_type": "code",
   "execution_count": null,
   "metadata": {},
   "outputs": [],
   "source": []
  }
 ],
 "metadata": {
  "kernelspec": {
   "display_name": "bme548",
   "language": "python",
   "name": "python3"
  },
  "language_info": {
   "codemirror_mode": {
    "name": "ipython",
    "version": 3
   },
   "file_extension": ".py",
   "mimetype": "text/x-python",
   "name": "python",
   "nbconvert_exporter": "python",
   "pygments_lexer": "ipython3",
   "version": "3.11.6"
  }
 },
 "nbformat": 4,
 "nbformat_minor": 2
}
