{
 "cells": [
  {
   "cell_type": "markdown",
   "metadata": {},
   "source": [
    "## Convert DCM images to PNG"
   ]
  },
  {
   "cell_type": "code",
   "execution_count": 25,
   "metadata": {},
   "outputs": [],
   "source": [
    "import concurrent.futures\n",
    "import pandas as pd\n",
    "import os\n",
    "from PIL import Image"
   ]
  },
  {
   "cell_type": "code",
   "execution_count": 26,
   "metadata": {},
   "outputs": [],
   "source": [
    "train_data = pd.read_csv('../../data/train/data.csv')\n",
    "test_data = pd.read_csv('../../data/test/data.csv')\n",
    "png_images_path = '../../data/RSNA_BME548/images/'"
   ]
  },
  {
   "cell_type": "code",
   "execution_count": 27,
   "metadata": {},
   "outputs": [],
   "source": [
    "# create train and test folders inside the images folder\n",
    "train_images_path = '../../data/RSNA_BME548-png/train/'\n",
    "test_images_path = '../../data/RSNA_BME548-png/test/'\n",
    "\n",
    "os.makedirs(train_images_path, exist_ok=True)\n",
    "os.makedirs(test_images_path, exist_ok=True)\n",
    "\n",
    "# create subfolders for each class\n",
    "for class_name in train_data['any'].unique():\n",
    "    os.makedirs(train_images_path + str(class_name), exist_ok=True)\n",
    "    os.makedirs(test_images_path + str(class_name), exist_ok=True)"
   ]
  },
  {
   "cell_type": "code",
   "execution_count": 28,
   "metadata": {},
   "outputs": [],
   "source": [
    "train_files = train_data[\"filename\"].values\n",
    "test_files = test_data[\"filename\"].values"
   ]
  },
  {
   "cell_type": "code",
   "execution_count": 29,
   "metadata": {},
   "outputs": [],
   "source": [
    "def search_file(directory, search_string):\n",
    "    \"\"\"\n",
    "    Searches for files whose filename contains the specified search string\n",
    "    in the given directory and its subdirectories.\n",
    "    \"\"\"\n",
    "    matches = []\n",
    "    for root, dirs, files in os.walk(directory):\n",
    "        for file in files:\n",
    "            if search_string in file:\n",
    "                file_path = os.path.join(root, file)\n",
    "                matches.append(file_path)\n",
    "    return matches"
   ]
  },
  {
   "cell_type": "code",
   "execution_count": 30,
   "metadata": {},
   "outputs": [
    {
     "name": "stdout",
     "output_type": "stream",
     "text": [
      "File ID_002697199.dcm not found.\n"
     ]
    }
   ],
   "source": [
    "def process_file(file, train):\n",
    "    images_path = train_images_path if train else test_images_path\n",
    "    data = train_data if train else test_data\n",
    "\n",
    "    matches = search_file(png_images_path, file)\n",
    "    if len(matches) == 0:\n",
    "        print(f\"File {file} not found.\")\n",
    "        return\n",
    "    match = matches[0]\n",
    "    image = Image.open(match)\n",
    "    image = image.resize((224, 224))\n",
    "    new_file = file.replace('.dcm', '.png')\n",
    "    image.save(images_path + str(data[data['filename'] == file]['any'].values[0]) + '/' + new_file)\n",
    "\n",
    "with concurrent.futures.ThreadPoolExecutor() as executor:\n",
    "    for file in train_files:\n",
    "        executor.submit(process_file, file, True)\n",
    "    for file in test_files:\n",
    "        executor.submit(process_file, file, False)"
   ]
  },
  {
   "cell_type": "code",
   "execution_count": null,
   "metadata": {},
   "outputs": [],
   "source": [
    "# Resize images to 224x224\n",
    "for class_name in train_data['any'].unique():\n",
    "    for file in os.listdir(train_images_path + str(class_name)):\n",
    "        image = Image.open(train_images_path + str(class_name) + '/' + file)\n",
    "        image = image.resize((224, 224))\n",
    "        image.save(train_images_path + str(class_name) + '/' + file)\n",
    "\n",
    "        "
   ]
  },
  {
   "cell_type": "code",
   "execution_count": null,
   "metadata": {},
   "outputs": [],
   "source": []
  }
 ],
 "metadata": {
  "kernelspec": {
   "display_name": "bme548",
   "language": "python",
   "name": "python3"
  },
  "language_info": {
   "codemirror_mode": {
    "name": "ipython",
    "version": 3
   },
   "file_extension": ".py",
   "mimetype": "text/x-python",
   "name": "python",
   "nbconvert_exporter": "python",
   "pygments_lexer": "ipython3",
   "version": "3.11.6"
  }
 },
 "nbformat": 4,
 "nbformat_minor": 2
}
