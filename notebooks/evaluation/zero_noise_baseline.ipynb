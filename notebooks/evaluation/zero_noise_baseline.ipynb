{
 "cells": [
  {
   "cell_type": "code",
   "execution_count": 8,
   "metadata": {},
   "outputs": [],
   "source": [
    "import os\n",
    "import pandas as pd\n",
    "import tensorflow as tf \n",
    "import numpy as np\n",
    "import glob\n",
    "from sklearn.model_selection import train_test_split\n",
    "from sklearn import metrics\n",
    "from sklearn.metrics import classification_report\n",
    "\n",
    "\n",
    "if os.getcwd().split('/')[-1] == \"evaluation\":\n",
    "    %cd ../..\n",
    "\n",
    "# Import noise simulator\n",
    "from scripts.utils import read_dcm"
   ]
  },
  {
   "cell_type": "code",
   "execution_count": 9,
   "metadata": {},
   "outputs": [],
   "source": [
    "def get_train_and_test_data():\n",
    "  df=pd.read_csv(\"data/RSNA_BME548/data.csv\")\n",
    "\n",
    "  files=glob.glob(\"data/RSNA_BME548/images/*.dcm\")\n",
    "\n",
    "  label=[]\n",
    "  img_array=[]\n",
    "  for i in files:\n",
    "    filename = os.path.basename(i)\n",
    "    img=read_dcm(i)\n",
    "    img_array.append(np.array(img))\n",
    "    # Get value of column \"any\" for the row with filename as index\n",
    "    label.append(df.loc[df['filename'] == filename]['any'].values[0])\n",
    "\n",
    "  x = np.array(img_array)\n",
    "  x = x/255\n",
    "  y = np.array(label)\n",
    "\n",
    "  x = np.expand_dims(x,3)\n",
    "  X_train, X_test, y_train, y_test = train_test_split(x,y, test_size = 0.15, random_state = 0)\n",
    "  \n",
    "  return X_train, X_test, y_train, y_test"
   ]
  },
  {
   "cell_type": "code",
   "execution_count": 10,
   "metadata": {},
   "outputs": [],
   "source": [
    "class Block(tf.keras.Model):\n",
    "    def __init__(self, filters, kernel_size, repetitions, pool_size=2, strides=2):\n",
    "        super(Block, self).__init__()\n",
    "        self.filters =filters\n",
    "        self.kernel_size = kernel_size\n",
    "        self.repetitions = repetitions\n",
    "        \n",
    "        # Define a conv2D_0, conv2D_1, etc based on the number of repetitions\n",
    "        for i in range(self.repetitions):\n",
    "            \n",
    "            # Define a Conv2D layer, specifying filters, kernel_size, activation and padding.\n",
    "            vars(self)[f'conv2D_{i}'] = tf.keras.layers.Conv2D(self.filters,self.kernel_size,activation='relu',padding=\"same\")\n",
    "        \n",
    "        # Define the max pool layer that will be added after the Conv2D blocks\n",
    "        self.max_pool = tf.keras.layers.MaxPooling2D(pool_size, strides=strides)\n",
    "  \n",
    "    def call(self, inputs):\n",
    "        # access the class's conv2D_0 layer\n",
    "        conv2D_0 = vars(self)['conv2D_0']\n",
    "        \n",
    "        # Connect the conv2D_0 layer to inputs\n",
    "        x = conv2D_0(inputs)\n",
    "\n",
    "        # for the remaining conv2D_i layers from 1 to `repetitions` they will be connected to the previous layer\n",
    "        for i in range(1,self.repetitions):\n",
    "            # access conv2D_i by formatting the integer `i`. (hint: check how these were saved using `vars()` earlier)\n",
    "            conv2D_i = vars(self)[f'conv2D_{i}']\n",
    "            \n",
    "            # Use the conv2D_i and connect it to the previous layer\n",
    "            x = conv2D_i(x)\n",
    "\n",
    "        # Finally, add the max_pool layer\n",
    "        max_pool = self.max_pool(x)\n",
    "        \n",
    "        return max_pool"
   ]
  },
  {
   "cell_type": "code",
   "execution_count": 11,
   "metadata": {},
   "outputs": [],
   "source": [
    "class MyVGG(tf.keras.Model):\n",
    "\n",
    "    def __init__(self, num_classes):\n",
    "        super(MyVGG, self).__init__()\n",
    "\n",
    "        # Creating blocks of VGG with the following \n",
    "        # (filters, kernel_size, repetitions) configurations\n",
    "        self.block_a = Block(filters=64, kernel_size=3, repetitions=2)\n",
    "        self.block_b = Block(filters=128, kernel_size=3, repetitions=2)\n",
    "        self.block_c = Block(filters=256, kernel_size=3, repetitions=3)\n",
    "        self.block_d = Block(filters=512, kernel_size=3, repetitions=3)\n",
    "        self.block_e = Block(filters=512, kernel_size=3, repetitions=3)\n",
    "\n",
    "        # Classification head\n",
    "        # Define a Flatten layer\n",
    "        self.flatten = tf.keras.layers.Flatten()\n",
    "        # Create a Dense layer with 256 units and ReLU as the activation function\n",
    "        self.fc = tf.keras.layers.Dense(256,activation='relu')\n",
    "        # Finally add the softmax classifier using a Dense layer\n",
    "        self.classifier = tf.keras.layers.Dense(num_classes, activation='softmax')\n",
    "\n",
    "    def call(self, inputs):\n",
    "        # Chain all the layers one after the other\n",
    "        x = self.block_a(inputs)\n",
    "        x = self.block_b(x)\n",
    "        x = self.block_c(x)\n",
    "        x = self.block_d(x)\n",
    "        x = self.block_e(x)\n",
    "        x = self.flatten(x)\n",
    "        x = self.fc(x)\n",
    "        x = self.classifier(x)\n",
    "        return x"
   ]
  },
  {
   "cell_type": "code",
   "execution_count": 12,
   "metadata": {},
   "outputs": [],
   "source": [
    "def get_model_accuracy(X_train, X_test, y_train, y_test):\n",
    "  vgg = MyVGG(num_classes=2)\n",
    "  vgg.compile(optimizer='adam', loss='sparse_categorical_crossentropy', metrics=['accuracy'])\n",
    "  vgg.fit(X_train,y_train,epochs=5)\n",
    "\n",
    "  # vgg.save_weights(\"models/vgg.weights.h5\")\n",
    "\n",
    "  y_pred=vgg.predict(X_test)\n",
    "\n",
    "  y_pred_binary=[]\n",
    "  for a in y_pred:\n",
    "    y_pred_binary.append(np.argmax(a))\n",
    "\n",
    "  y_pred_binary=np.array(y_pred_binary)\n",
    "\n",
    "  accuracy = metrics.accuracy_score(y_test,y_pred_binary)\n",
    "\n",
    "  print(\"Accuracy of model=\",accuracy)\n",
    "\n",
    "  print(classification_report(y_test, y_pred_binary, target_names=['0','1']))\n",
    "\n",
    "  return accuracy"
   ]
  },
  {
   "cell_type": "code",
   "execution_count": 13,
   "metadata": {},
   "outputs": [],
   "source": [
    "X_train, X_test, y_train, y_test = get_train_and_test_data()"
   ]
  },
  {
   "cell_type": "code",
   "execution_count": null,
   "metadata": {},
   "outputs": [],
   "source": [
    "get_model_accuracy(X_train, X_test, y_train, y_test)"
   ]
  }
 ],
 "metadata": {
  "kernelspec": {
   "display_name": "bme548",
   "language": "python",
   "name": "python3"
  },
  "language_info": {
   "codemirror_mode": {
    "name": "ipython",
    "version": 3
   },
   "file_extension": ".py",
   "mimetype": "text/x-python",
   "name": "python",
   "nbconvert_exporter": "python",
   "pygments_lexer": "ipython3",
   "version": "3.11.6"
  }
 },
 "nbformat": 4,
 "nbformat_minor": 2
}
