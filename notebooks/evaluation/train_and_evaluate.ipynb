{
 "cells": [
  {
   "cell_type": "code",
   "execution_count": 4,
   "metadata": {},
   "outputs": [
    {
     "name": "stdout",
     "output_type": "stream",
     "text": [
      "/Users/jc/code/ich-detection\n"
     ]
    },
    {
     "name": "stderr",
     "output_type": "stream",
     "text": [
      "/Users/jc/.venvs/bme548/lib/python3.11/site-packages/IPython/core/magics/osm.py:417: UserWarning: This is now an optional IPython functionality, setting dhist requires you to install the `pickleshare` library.\n",
      "  self.shell.db['dhist'] = compress_dhist(dhist)[-100:]\n"
     ]
    }
   ],
   "source": [
    "import os\n",
    "import sys\n",
    "import pandas as pd\n",
    "import tensorflow as tf \n",
    "import numpy as np\n",
    "import glob\n",
    "from sklearn import metrics\n",
    "from sklearn.metrics import classification_report\n"
   ]
  },
  {
   "cell_type": "markdown",
   "metadata": {},
   "source": [
    "### RUN THIS CELL IF YOU ARE RUNNING THIS NOTEBOOK LOCALLY"
   ]
  },
  {
   "cell_type": "code",
   "execution_count": null,
   "metadata": {},
   "outputs": [],
   "source": [
    "#if os.getcwd().split('/')[-1] == \"evaluation\":\n",
    "#    %cd ../..\n",
    "\n",
    "#from scripts.physical_transformation import get_noisy_image\n",
    "#from scripts.utils import read_dcm\n",
    "#from scripts.model import VGG"
   ]
  },
  {
   "cell_type": "markdown",
   "metadata": {},
   "source": [
    "### IF RUNNING ON GOOGLE COLAB OR KAGGLE, RUN THE NEXT CELL"
   ]
  },
  {
   "cell_type": "code",
   "execution_count": null,
   "metadata": {},
   "outputs": [],
   "source": [
    "# Clone the repository\n",
    "!git clone https://github.com/jpscardoso97/ich-detection.git \n",
    "\n",
    "repo_name = \"ich-detection\"\n",
    "\n",
    "sys.path.append(repo_name)\n",
    "\n",
    "# Change to the repository directory\n",
    "%cd {repo_name}\n",
    "\n",
    "# TODO: Remove once merged to main branch\n",
    "!git checkout feat/repo-restructure\n",
    "\n",
    "%pip install -r requirements.txt\n",
    "\n",
    "from scripts.utils import read_dcm\n",
    "from scripts.model import VGG\n",
    "from scripts.physical_transformation import get_noisy_image\n",
    "\n",
    "username = 'kaggle_username'\n",
    "key = 'kaggle_key'\n",
    "\n",
    "# Create kaggle.json\n",
    "os.makedirs(os.path.join(os.path.expanduser(\"~\"), '.kaggle'), exist_ok=True)\n",
    "with open(os.path.join(os.path.expanduser(\"~\"), '.kaggle/kaggle.json'), 'w') as file:\n",
    "    file.write('{\"username\":\"%s\",\"key\":\"%s\"}' % (username, key))\n",
    "\n",
    "# Set permissions\n",
    "!chmod 600 ~/.kaggle/kaggle.json"
   ]
  },
  {
   "cell_type": "code",
   "execution_count": null,
   "metadata": {},
   "outputs": [],
   "source": [
    "# Load the dataset\n",
    "import kaggle\n",
    "kaggle.api.dataset_download_files('jpscardoso/rsna-bme548', path='data/', unzip=True)"
   ]
  },
  {
   "cell_type": "markdown",
   "metadata": {},
   "source": [
    "## Define noise level for experiment"
   ]
  },
  {
   "cell_type": "code",
   "execution_count": null,
   "metadata": {},
   "outputs": [],
   "source": [
    "NOISE_LEVEL = 0\n",
    "TEST_NOISE_LEVELS = [0, 0.5, 1, 1.5, 2, 2.5, 3, 3.5, 4, 4.5, 5, 5.5, 6, 6.5, 7, 7.5, 8]"
   ]
  },
  {
   "cell_type": "markdown",
   "metadata": {},
   "source": [
    "## Load Data"
   ]
  },
  {
   "cell_type": "code",
   "execution_count": 9,
   "metadata": {},
   "outputs": [],
   "source": [
    "def get_data(filenames, df, noise_level):\n",
    "  labels=[]\n",
    "  images=[]\n",
    "  for i in filenames:\n",
    "    filename = os.path.basename(i)\n",
    "    img=read_dcm(i)\n",
    "    img = get_noisy_image(img, noise_level)\n",
    "    images.append(np.array(img))\n",
    "    # Get label of the image (has hemorrhage or not)\n",
    "    labels.append(df.loc[df['filename'] == filename]['any'].values[0])\n",
    "  \n",
    "  return images, labels\n",
    "\n",
    "def get_train_data():\n",
    "  train_df=pd.read_csv(\"data/train/data.csv\")\n",
    "  train_files=glob.glob(\"data/train/images/*.dcm\")\n",
    "\n",
    "  train_images, train_labels = get_data(train_files, train_df, NOISE_LEVEL)\n",
    "\n",
    "  X_train = np.array(train_images)/255\n",
    "  X_train = np.expand_dims(X_train,3)\n",
    "  y_train = np.array(train_labels)\n",
    "  \n",
    "  return X_train, y_train\n",
    "\n",
    "def get_test_data():\n",
    "    test_df=pd.read_csv(\"data/test/data.csv\")\n",
    "    test_files=glob.glob(\"data/test/images/*.dcm\")\n",
    "\n",
    "    # To test the trained model on all the different noise levels\n",
    "    X_tests = {}\n",
    "    y_tests = {}\n",
    "    for noise_level in TEST_NOISE_LEVELS:\n",
    "      test_images, test_labels = get_data(test_files, test_df, noise_level)\n",
    "      x = np.array(test_images)/255\n",
    "      x = np.expand_dims(x,3)\n",
    "      y = np.array(test_labels)\n",
    "      X_tests[noise_level] = x\n",
    "      y_tests[noise_level] = y\n",
    "        \n",
    "    return X_tests, y_tests"
   ]
  },
  {
   "cell_type": "code",
   "execution_count": null,
   "metadata": {},
   "outputs": [],
   "source": [
    "def train_model(X_train, y_train):\n",
    "  early_stopping = tf.keras.callbacks.EarlyStopping(\n",
    "    monitor='val_accuracy',\n",
    "    mode='max',\n",
    "    patience=6\n",
    "  )\n",
    "\n",
    "  optimizer = tf.keras.optimizers.Adam(learning_rate=0.0005)\n",
    "\n",
    "  model = VGG()\n",
    "  model.compile(optimizer=optimizer, loss='binary_crossentropy', metrics=['accuracy'])\n",
    "  model.fit(X_train, y_train, epochs=25, validation_split=0.2, callbacks=[early_stopping])\n",
    "\n",
    "  return model"
   ]
  },
  {
   "cell_type": "code",
   "execution_count": null,
   "metadata": {},
   "outputs": [],
   "source": [
    "def get_predictions(model, X_test):\n",
    "    preds = model.predict(X_test)\n",
    "    preds_binary = (preds > 0.5).astype(np.int)\n",
    "    return preds_binary"
   ]
  },
  {
   "cell_type": "code",
   "execution_count": null,
   "metadata": {},
   "outputs": [],
   "source": [
    "def get_classification_report(y_test, y_pred):\n",
    "  accuracy = metrics.accuracy_score(y_test,y_pred)\n",
    "\n",
    "  print(\"Accuracy of model=\",accuracy)\n",
    "\n",
    "  return classification_report(y_test, y_pred, target_names=['0','1'])"
   ]
  },
  {
   "cell_type": "code",
   "execution_count": null,
   "metadata": {},
   "outputs": [],
   "source": [
    "# Get train data and test sets for all noise levels\n",
    "X_train, y_train = get_train_data()"
   ]
  },
  {
   "cell_type": "code",
   "execution_count": null,
   "metadata": {},
   "outputs": [],
   "source": [
    "# Train the model\n",
    "model = train_model(X_train, y_train)"
   ]
  },
  {
   "cell_type": "code",
   "execution_count": null,
   "metadata": {},
   "outputs": [],
   "source": [
    "X_tests, y_tests = get_test_data()"
   ]
  },
  {
   "cell_type": "code",
   "execution_count": null,
   "metadata": {},
   "outputs": [],
   "source": [
    "# Get predictions on test set\n",
    "accuracies = []\n",
    "all_trues = []\n",
    "all_preds = []\n",
    "\n",
    "for noise_level in TEST_NOISE_LEVELS:\n",
    "    y_pred = get_predictions(model, X_tests[noise_level])\n",
    "    accuracy = metrics.accuracy_score(y_tests[noise_level], y_pred)\n",
    "    print(f\"Accuracy of model on noise level {noise_level} = {accuracy}\")\n",
    "    accuracies.append(accuracy)\n",
    "    all_trues.extend(y_tests[noise_level])\n",
    "    all_preds.extend(y_pred)\n"
   ]
  },
  {
   "cell_type": "code",
   "execution_count": null,
   "metadata": {},
   "outputs": [],
   "source": [
    "# Get classification report\n",
    "class_report = get_classification_report(all_trues, all_preds)\n",
    "# Convert noise level to a valid string for the filename\n",
    "filename = f\"report_{str(NOISE_LEVEL).replace('.', '_')}_level.txt\"\n",
    "# Save classification report\n",
    "with open(f\"data/outputs/classification_reports/{filename}\", \"w\") as file:\n",
    "    file.write(class_report)"
   ]
  },
  {
   "cell_type": "code",
   "execution_count": null,
   "metadata": {},
   "outputs": [],
   "source": [
    "# show confusion matrix\n",
    "confusion_matrix = metrics.confusion_matrix(all_trues, all_preds)\n",
    "print(confusion_matrix)"
   ]
  }
 ],
 "metadata": {
  "kernelspec": {
   "display_name": "bme548",
   "language": "python",
   "name": "python3"
  },
  "language_info": {
   "codemirror_mode": {
    "name": "ipython",
    "version": 3
   },
   "file_extension": ".py",
   "mimetype": "text/x-python",
   "name": "python",
   "nbconvert_exporter": "python",
   "pygments_lexer": "ipython3",
   "version": "3.11.6"
  }
 },
 "nbformat": 4,
 "nbformat_minor": 2
}
