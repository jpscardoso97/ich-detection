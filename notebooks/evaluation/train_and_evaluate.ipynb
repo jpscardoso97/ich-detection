{
 "cells": [
  {
   "cell_type": "code",
   "execution_count": 4,
   "metadata": {},
   "outputs": [
    {
     "name": "stdout",
     "output_type": "stream",
     "text": [
      "/Users/jc/code/ich-detection\n"
     ]
    },
    {
     "name": "stderr",
     "output_type": "stream",
     "text": [
      "/Users/jc/.venvs/bme548/lib/python3.11/site-packages/IPython/core/magics/osm.py:417: UserWarning: This is now an optional IPython functionality, setting dhist requires you to install the `pickleshare` library.\n",
      "  self.shell.db['dhist'] = compress_dhist(dhist)[-100:]\n"
     ]
    }
   ],
   "source": [
    "import os\n",
    "import pandas as pd\n",
    "import tensorflow as tf \n",
    "import numpy as np\n",
    "import glob\n",
    "from sklearn import metrics\n",
    "from sklearn.metrics import classification_report\n"
   ]
  },
  {
   "cell_type": "markdown",
   "metadata": {},
   "source": [
    "### RUN THIS CELL IF YOU ARE RUNNING THIS NOTEBOOK LOCALLY"
   ]
  },
  {
   "cell_type": "code",
   "execution_count": null,
   "metadata": {},
   "outputs": [],
   "source": [
    "if os.getcwd().split('/')[-1] == \"evaluation\":\n",
    "    %cd ../..\n",
    "\n",
    "# Import noise simulator\n",
    "from scripts.utils import read_dcm\n",
    "\n",
    "# Import model\n",
    "from scripts.model import VGG"
   ]
  },
  {
   "cell_type": "markdown",
   "metadata": {},
   "source": [
    "### IF RUNNING ON GOOGLE COLAB OR KAGGLE, RUN THE NEXT CELL"
   ]
  },
  {
   "cell_type": "code",
   "execution_count": null,
   "metadata": {},
   "outputs": [],
   "source": [
    "# Clone the repository\n",
    "if not os.path.exists(\"ICH-DETECTION\"):\n",
    "    % git clone https://github.com/jpscardoso97/ich-detection.git \n",
    "    % git checkout feat/repo-restructure\n",
    "\n",
    "# Change to the repository directory\n",
    "%cd ICH-DETECTION\n",
    "\n",
    "# Import noise simulator\n",
    "from scripts.utils import read_dcm\n",
    "\n",
    "# Import model\n",
    "from scripts.model import VGG"
   ]
  },
  {
   "cell_type": "markdown",
   "metadata": {},
   "source": [
    "## Load Data"
   ]
  },
  {
   "cell_type": "code",
   "execution_count": 9,
   "metadata": {},
   "outputs": [],
   "source": [
    "def get_train_and_test_data():\n",
    "  train_df=pd.read_csv(\"data/RSNA_BME548/train/data.csv\")\n",
    "  test_df=pd.read_csv(\"data/RSNA_BME548/test/data.csv\")\n",
    "\n",
    "  train_files=glob.glob(\"data/RSNA_BME548/train/images/*.dcm\")\n",
    "  test_files=glob.glob(\"data/RSNA_BME548/test/images/*.dcm\")\n",
    "\n",
    "  train_label=[]\n",
    "  test_label=[]\n",
    "\n",
    "  train_img_array=[]\n",
    "  test_img_array=[]\n",
    "\n",
    "  for i in train_files:\n",
    "    filename = os.path.basename(i)\n",
    "    img=read_dcm(i)\n",
    "    train_img_array.append(np.array(img))\n",
    "    # Get value of column \"any\" for the row with filename as index\n",
    "    train_label.append(train_df.loc[train_df['filename'] == filename]['any'].values[0])\n",
    "\n",
    "  for i in test_files:\n",
    "    filename = os.path.basename(i)\n",
    "    img=read_dcm(i)\n",
    "    test_img_array.append(np.array(img))\n",
    "    # Get value of column \"any\" for the row with filename as index\n",
    "    test_label.append(test_df.loc[test_df['filename'] == filename]['any'].values[0])\n",
    "\n",
    "  X_train = np.array(train_img_array)/255\n",
    "  X_train = np.expand_dims(X_train,3)\n",
    "  y_train = np.array(train_label)\n",
    "\n",
    "  X_test = np.array(test_img_array)/255\n",
    "  X_test = np.expand_dims(X_test,3)\n",
    "  y_test = np.array(test_label)\n",
    "  \n",
    "  return X_train, X_test, y_train, y_test"
   ]
  },
  {
   "cell_type": "code",
   "execution_count": 12,
   "metadata": {},
   "outputs": [],
   "source": [
    "def get_model_accuracy(X_train, X_test, y_train, y_test):\n",
    "  vgg = VGG(num_classes=2)\n",
    "  vgg.compile(optimizer='adam', loss='sparse_categorical_crossentropy', metrics=['accuracy'])\n",
    "  vgg.fit(X_train,y_train,epochs=5)\n",
    "\n",
    "  y_pred=vgg.predict(X_test)\n",
    "\n",
    "  y_pred_binary=[]\n",
    "  for a in y_pred:\n",
    "    y_pred_binary.append(np.argmax(a))\n",
    "\n",
    "  y_pred_binary=np.array(y_pred_binary)\n",
    "\n",
    "  accuracy = metrics.accuracy_score(y_test,y_pred_binary)\n",
    "\n",
    "  print(\"Accuracy of model=\",accuracy)\n",
    "\n",
    "  print(classification_report(y_test, y_pred_binary, target_names=['0','1']))\n",
    "\n",
    "  return accuracy"
   ]
  },
  {
   "cell_type": "code",
   "execution_count": 13,
   "metadata": {},
   "outputs": [],
   "source": [
    "X_train, X_test, y_train, y_test = get_train_and_test_data()"
   ]
  },
  {
   "cell_type": "code",
   "execution_count": null,
   "metadata": {},
   "outputs": [],
   "source": [
    "get_model_accuracy(X_train, X_test, y_train, y_test)"
   ]
  }
 ],
 "metadata": {
  "kernelspec": {
   "display_name": "bme548",
   "language": "python",
   "name": "python3"
  },
  "language_info": {
   "codemirror_mode": {
    "name": "ipython",
    "version": 3
   },
   "file_extension": ".py",
   "mimetype": "text/x-python",
   "name": "python",
   "nbconvert_exporter": "python",
   "pygments_lexer": "ipython3",
   "version": "3.11.6"
  }
 },
 "nbformat": 4,
 "nbformat_minor": 2
}
