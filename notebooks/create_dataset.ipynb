{
 "cells": [
  {
   "cell_type": "markdown",
   "metadata": {},
   "source": [
    "# DONT RUN THIS CODE. \n",
    "IT WAS USED TO GENERATE THE FINAL DATASET FOR THE PROJECT  \n",
    "THE FINAL DATASET IS ALREADY AVAILABLE IN KAGGLE  \n",
    "THE DATASET NOW CONTAINS TRAIN AND TEST SEPARATED DATA TO BE USED DURING EXPERIMENTATION"
   ]
  },
  {
   "cell_type": "code",
   "execution_count": 7,
   "metadata": {},
   "outputs": [
    {
     "name": "stdout",
     "output_type": "stream",
     "text": [
      "Note: you may need to restart the kernel to use updated packages.\n"
     ]
    }
   ],
   "source": [
    "%pip install -q kaggle\n",
    "\n",
    "import os\n",
    "import kaggle\n",
    "import pandas as pd"
   ]
  },
  {
   "cell_type": "code",
   "execution_count": 14,
   "metadata": {},
   "outputs": [
    {
     "name": "stdout",
     "output_type": "stream",
     "text": [
      "Dataset URL: https://www.kaggle.com/datasets/jpscardoso/rsna-bme548\n"
     ]
    }
   ],
   "source": [
    "# Load the data\n",
    "force_data_update = False\n",
    "\n",
    "if (force_data_update) or (not os.path.exists(\"../data/RSNA_BME548\")):\n",
    "    kaggle.api.authenticate()\n",
    "    kaggle.api.dataset_download_files('jpscardoso/rsna-bme548', path='../data/', unzip=True)"
   ]
  },
  {
   "cell_type": "code",
   "execution_count": 15,
   "metadata": {},
   "outputs": [],
   "source": [
    "labels = pd.read_csv('../data/RSNA_BME548/data.csv')"
   ]
  },
  {
   "cell_type": "code",
   "execution_count": 16,
   "metadata": {},
   "outputs": [
    {
     "data": {
      "text/html": [
       "<div>\n",
       "<style scoped>\n",
       "    .dataframe tbody tr th:only-of-type {\n",
       "        vertical-align: middle;\n",
       "    }\n",
       "\n",
       "    .dataframe tbody tr th {\n",
       "        vertical-align: top;\n",
       "    }\n",
       "\n",
       "    .dataframe thead th {\n",
       "        text-align: right;\n",
       "    }\n",
       "</style>\n",
       "<table border=\"1\" class=\"dataframe\">\n",
       "  <thead>\n",
       "    <tr style=\"text-align: right;\">\n",
       "      <th></th>\n",
       "      <th>filename</th>\n",
       "      <th>any</th>\n",
       "      <th>epidural</th>\n",
       "      <th>intraparenchymal</th>\n",
       "      <th>intraventricular</th>\n",
       "      <th>subarachnoid</th>\n",
       "      <th>subdural</th>\n",
       "    </tr>\n",
       "  </thead>\n",
       "  <tbody>\n",
       "    <tr>\n",
       "      <th>0</th>\n",
       "      <td>ID_000012eaf.dcm</td>\n",
       "      <td>0</td>\n",
       "      <td>0</td>\n",
       "      <td>0</td>\n",
       "      <td>0</td>\n",
       "      <td>0</td>\n",
       "      <td>0</td>\n",
       "    </tr>\n",
       "    <tr>\n",
       "      <th>1</th>\n",
       "      <td>ID_000039fa0.dcm</td>\n",
       "      <td>0</td>\n",
       "      <td>0</td>\n",
       "      <td>0</td>\n",
       "      <td>0</td>\n",
       "      <td>0</td>\n",
       "      <td>0</td>\n",
       "    </tr>\n",
       "    <tr>\n",
       "      <th>2</th>\n",
       "      <td>ID_00005679d.dcm</td>\n",
       "      <td>0</td>\n",
       "      <td>0</td>\n",
       "      <td>0</td>\n",
       "      <td>0</td>\n",
       "      <td>0</td>\n",
       "      <td>0</td>\n",
       "    </tr>\n",
       "    <tr>\n",
       "      <th>3</th>\n",
       "      <td>ID_00008ce3c.dcm</td>\n",
       "      <td>0</td>\n",
       "      <td>0</td>\n",
       "      <td>0</td>\n",
       "      <td>0</td>\n",
       "      <td>0</td>\n",
       "      <td>0</td>\n",
       "    </tr>\n",
       "    <tr>\n",
       "      <th>4</th>\n",
       "      <td>ID_0000950d7.dcm</td>\n",
       "      <td>0</td>\n",
       "      <td>0</td>\n",
       "      <td>0</td>\n",
       "      <td>0</td>\n",
       "      <td>0</td>\n",
       "      <td>0</td>\n",
       "    </tr>\n",
       "  </tbody>\n",
       "</table>\n",
       "</div>"
      ],
      "text/plain": [
       "           filename  any  epidural  intraparenchymal  intraventricular  \\\n",
       "0  ID_000012eaf.dcm    0         0                 0                 0   \n",
       "1  ID_000039fa0.dcm    0         0                 0                 0   \n",
       "2  ID_00005679d.dcm    0         0                 0                 0   \n",
       "3  ID_00008ce3c.dcm    0         0                 0                 0   \n",
       "4  ID_0000950d7.dcm    0         0                 0                 0   \n",
       "\n",
       "   subarachnoid  subdural  \n",
       "0             0         0  \n",
       "1             0         0  \n",
       "2             0         0  \n",
       "3             0         0  \n",
       "4             0         0  "
      ]
     },
     "execution_count": 16,
     "metadata": {},
     "output_type": "execute_result"
    }
   ],
   "source": [
    "# Display the data\n",
    "labels.head()"
   ]
  },
  {
   "cell_type": "code",
   "execution_count": 17,
   "metadata": {},
   "outputs": [],
   "source": [
    "# Split data into training and testing sets\n",
    "from sklearn.model_selection import train_test_split\n",
    "\n",
    "train_labels, test_labels = train_test_split(labels, test_size=0.2, random_state=42)\n",
    "train_images = train_labels['filename'].values\n",
    "test_images = test_labels['filename'].values"
   ]
  },
  {
   "cell_type": "code",
   "execution_count": 18,
   "metadata": {},
   "outputs": [],
   "source": [
    "# Ensure no train/test overlap\n",
    "assert len(set(train_images).intersection(set(test_images))) == 0"
   ]
  },
  {
   "cell_type": "code",
   "execution_count": 20,
   "metadata": {},
   "outputs": [],
   "source": [
    "import shutil\n",
    "\n",
    "# Create new directories for the training and testing sets\n",
    "# Move the images to the new directories\n",
    "\n",
    "if not os.path.exists('../data/RSNA_BME548/train/images'):\n",
    "    os.makedirs('../data/RSNA_BME548/train/images')\n",
    "    for image in train_images:\n",
    "        shutil.move(f'../data/RSNA_BME548/images/{image}', f'../data/RSNA_BME548/train/images/{image}')\n",
    "\n",
    "if not os.path.exists('../data/RSNA_BME548/test/images'):\n",
    "    os.makedirs('../data/RSNA_BME548/test/images')\n",
    "    for image in test_images:\n",
    "        shutil.move(f'../data/RSNA_BME548/images/{image}', f'../data/RSNA_BME548/test/images/{image}')\n"
   ]
  },
  {
   "cell_type": "code",
   "execution_count": 21,
   "metadata": {},
   "outputs": [],
   "source": [
    "# Create new dataset with split and save into kaggle\n",
    "train_labels.to_csv('../data/RSNA_BME548/train/data.csv', index=False)\n",
    "test_labels.to_csv('../data/RSNA_BME548/test/data.csv', index=False)"
   ]
  },
  {
   "cell_type": "code",
   "execution_count": 22,
   "metadata": {},
   "outputs": [],
   "source": [
    "# Delete original data.csv and images foler\n",
    "os.remove('../data/RSNA_BME548/data.csv')\n",
    "shutil.rmtree('../data/RSNA_BME548/images')"
   ]
  },
  {
   "cell_type": "code",
   "execution_count": 23,
   "metadata": {},
   "outputs": [],
   "source": [
    "if not os.path.exists('../data/RSNA_BME548.zip'):\n",
    "    shutil.make_archive('../data/RSNA_BME548', 'zip', '../data/RSNA_BME548')\n"
   ]
  }
 ],
 "metadata": {
  "kernelspec": {
   "display_name": "bme548",
   "language": "python",
   "name": "python3"
  },
  "language_info": {
   "codemirror_mode": {
    "name": "ipython",
    "version": 3
   },
   "file_extension": ".py",
   "mimetype": "text/x-python",
   "name": "python",
   "nbconvert_exporter": "python",
   "pygments_lexer": "ipython3",
   "version": "3.11.6"
  }
 },
 "nbformat": 4,
 "nbformat_minor": 2
}
